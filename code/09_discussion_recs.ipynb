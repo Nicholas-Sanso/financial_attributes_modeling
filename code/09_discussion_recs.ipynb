{
 "cells": [
  {
   "cell_type": "markdown",
   "id": "5d47c48a-d276-4c14-bac7-17c0a0692503",
   "metadata": {},
   "source": [
    "# [Discussion & Recommendations](#section-title)"
   ]
  },
  {
   "cell_type": "markdown",
   "id": "475a37ce-aa4e-4950-9270-6f491bbde1ba",
   "metadata": {},
   "source": [
    "This project attempted to use clustering techniques like K-Means and DBSCAN to uncover hidden patterns and relationships within financial statement data. 4,464 U. S. exchange-traded companies were considered. Their income statemet, balance sheet, cash flow statement, and statement of other comprehensive income from their most recent filing date between May 1, 2023 and Aug 22, 2023 were used. Our analysis demonstrated that DBSCAN outperformed K-means clustering, as it had a higher Silhouette score of 0.75 and was more appropriate due to the densely packed data as revealed by the scatterplots.\n",
    "\n",
    "It is important to note that there is no quantitative baseline by which to measure unsupervised learning models, and therefore the \"ground truth\" or ideal clustering number is subjective. We defined success as being able to discern distinct clustering groups within our unsupervised models, and to minimize noisy data when applicable. It was also advantageous that DBSCAN did not assume the clusters to be spherical (unlike K-Means). To this end, we consider our DBSCAN model moderately successful in that distinct clusters were formed but we could not reveal insightful financial relationships from the cluster formations.\n",
    "\n",
    "There are several ways in which this project can be improved and/or built upon:\n",
    "\n",
    "- It is recommended that next steps include clustering with other methods, such as those described by __[SciKitLearn](https://scikit-learn.org/stable/modules/clustering.html)__. Other models adapt better to concavity, geometry flatness, even/uneven cluster size, etc, and may result in higher Silhouette Scores on this dataset. Examples of other models to explore may include Agglomeratie Hierarchical Clustering and Gaussian Mixture Models.\n",
    "\n",
    "- Once the researcher is satisfied with their unsupervised learning model, it is recommended that next steps include leveraging the clustered features as a form of transfer learning for a supervised multiple regression task. This would involve slightly altering the dataframs used for K-Means and DBSCAN to ensure that the target output (y_hat), or any derivation of the variable, is not included within the features. For example, if we were using these features to try to predict the Net Profit Margin of a company's income statement, it is necessary to remove any line item (such as Revenue) or any ratio (such as Gross Profit Margin) that would unduly influence that output. \n",
    "\n",
    "- In addition to altering the unsupervised learning techniques, it is also recommended that the datasets themselves are revised. Ultimately only a categorical representaiton of the 11 GICS sectors were used in the clustering model. To further the impact of the GICS classification feature, future dataframes should be modified to include subindustries. These subindustries could also be used to create more accurate imputations for missing values.\n",
    "\n",
    "- Similarly, the Polygon.io scrape revealed many missing data points throughout the financial ratios, and impution methods were used to rectify this. However, many other methods were tested, but failed. This includes web-scraping of the Market Watch url. Here, code was successfully written but upon pinging their server frequently, we were promptly prohibited from accessing the site. We then tried to use the SEC's Edgar database, but the SEC is not currently acceptng new registrants for their API. Lastly we tried using a Python wrapper called SEC-API, which has potential and should be further explored in the two-step process demonstrated within this project's code.\n",
    "\n",
    "Overall, our subsequent plans for unsupervised learning techniques showcase the potential of these technqiues to extract meaningful insights from complex financial data. Our model showcases the difficulty in fitting clustering models and deciphering financial interpretations. "
   ]
  }
 ],
 "metadata": {
  "kernelspec": {
   "display_name": "Python 3 (ipykernel)",
   "language": "python",
   "name": "python3"
  },
  "language_info": {
   "codemirror_mode": {
    "name": "ipython",
    "version": 3
   },
   "file_extension": ".py",
   "mimetype": "text/x-python",
   "name": "python",
   "nbconvert_exporter": "python",
   "pygments_lexer": "ipython3",
   "version": "3.8.16"
  }
 },
 "nbformat": 4,
 "nbformat_minor": 5
}
